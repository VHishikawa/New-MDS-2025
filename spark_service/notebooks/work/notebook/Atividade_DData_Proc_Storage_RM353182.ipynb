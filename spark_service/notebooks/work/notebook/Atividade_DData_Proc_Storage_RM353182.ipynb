{
 "cells": [
  {
   "cell_type": "markdown",
   "metadata": {
    "application/vnd.databricks.v1+cell": {
     "cellMetadata": {},
     "inputWidgets": {},
     "nuid": "96816ed7-b08a-4ca3-abb9-f99880c3535d",
     "showTitle": false,
     "title": ""
    }
   },
   "source": [
    "\n",
    "# Atividade DISTRIBUTED DATA PROCESSING & STORAGE - RM353182 (Victor Hugo Eloi Hishikawa Ascencio)\n",
    "\n"
   ]
  },
  {
   "cell_type": "markdown",
   "metadata": {},
   "source": [
    "## Importa bibliotecas"
   ]
  },
  {
   "cell_type": "code",
   "execution_count": 1,
   "metadata": {
    "application/vnd.databricks.v1+cell": {
     "cellMetadata": {
      "byteLimit": 2048000,
      "rowLimit": 10000
     },
     "inputWidgets": {},
     "nuid": "6bbcd3d1-58b2-4266-9a5d-ab53cc65b773",
     "showTitle": false,
     "title": ""
    }
   },
   "outputs": [
    {
     "name": "stdout",
     "output_type": "stream",
     "text": [
      ":: loading settings :: url = jar:file:/opt/bitnami/spark/jars/ivy-2.5.1.jar!/org/apache/ivy/core/settings/ivysettings.xml\n"
     ]
    },
    {
     "name": "stderr",
     "output_type": "stream",
     "text": [
      "Ivy Default Cache set to: /root/.ivy2/cache\n",
      "The jars for the packages stored in: /root/.ivy2/jars\n",
      "io.delta#delta-spark_2.12 added as a dependency\n",
      ":: resolving dependencies :: org.apache.spark#spark-submit-parent-8709e0be-8349-452e-b0e1-de020eed45ae;1.0\n",
      "\tconfs: [default]\n",
      "\tfound io.delta#delta-spark_2.12;3.1.0 in central\n",
      "\tfound io.delta#delta-storage;3.1.0 in central\n",
      "\tfound org.antlr#antlr4-runtime;4.9.3 in central\n",
      "downloading https://repo1.maven.org/maven2/io/delta/delta-spark_2.12/3.1.0/delta-spark_2.12-3.1.0.jar ...\n",
      "\t[SUCCESSFUL ] io.delta#delta-spark_2.12;3.1.0!delta-spark_2.12.jar (4316ms)\n",
      "downloading https://repo1.maven.org/maven2/io/delta/delta-storage/3.1.0/delta-storage-3.1.0.jar ...\n",
      "\t[SUCCESSFUL ] io.delta#delta-storage;3.1.0!delta-storage.jar (373ms)\n",
      "downloading https://repo1.maven.org/maven2/org/antlr/antlr4-runtime/4.9.3/antlr4-runtime-4.9.3.jar ...\n",
      "\t[SUCCESSFUL ] org.antlr#antlr4-runtime;4.9.3!antlr4-runtime.jar (560ms)\n",
      ":: resolution report :: resolve 4280ms :: artifacts dl 5253ms\n",
      "\t:: modules in use:\n",
      "\tio.delta#delta-spark_2.12;3.1.0 from central in [default]\n",
      "\tio.delta#delta-storage;3.1.0 from central in [default]\n",
      "\torg.antlr#antlr4-runtime;4.9.3 from central in [default]\n",
      "\t---------------------------------------------------------------------\n",
      "\t|                  |            modules            ||   artifacts   |\n",
      "\t|       conf       | number| search|dwnlded|evicted|| number|dwnlded|\n",
      "\t---------------------------------------------------------------------\n",
      "\t|      default     |   3   |   3   |   3   |   0   ||   3   |   3   |\n",
      "\t---------------------------------------------------------------------\n",
      ":: retrieving :: org.apache.spark#spark-submit-parent-8709e0be-8349-452e-b0e1-de020eed45ae\n",
      "\tconfs: [default]\n",
      "\t3 artifacts copied, 0 already retrieved (5727kB/12ms)\n"
     ]
    }
   ],
   "source": [
    "import pyspark\n",
    "from delta import *\n",
    "from delta.tables import *\n",
    "from pyspark.sql.functions import *\n",
    "\n",
    "builder = pyspark.sql.SparkSession.builder.appName(\"delta\").master(\"spark://spark-master:7077\") \\\n",
    "    .config(\"spark.sql.extensions\", \"io.delta.sql.DeltaSparkSessionExtension\") \\\n",
    "    .config(\"spark.sql.catalog.spark_catalog\", \"org.apache.spark.sql.delta.catalog.DeltaCatalog\") \\\n",
    "    .config(\"spark.sql.extensions\",\"io.delta.sql.DeltaSparkSessionExtension\") \\\n",
    "    .config(\"spark.sql.catalog.spark_catalog\",\"org.apache.spark.sql.delta.catalog.DeltaCatalog\") \\\n",
    "    .config(\"spark.hadoop.fs.s3a.access.key\",\"datalake\") \\\n",
    "    .config(\"spark.hadoop.fs.s3a.secret.key\",\"datalake\") \\\n",
    "    .config(\"spark.hadoop.fs.s3a.endpoint\",\"http://minio:9000\") \\\n",
    "    .config(\"spark.hadoop.fs.s3a.path.style.access\", \"true\") \\\n",
    "    .config(\"spark.hadoop.fs.s3a.impl\", \"org.apache.hadoop.fs.s3a.S3AFileSystem\")\n",
    "\n",
    "spark = configure_spark_with_delta_pip(builder).enableHiveSupport().getOrCreate()"
   ]
  },
  {
   "cell_type": "markdown",
   "metadata": {
    "application/vnd.databricks.v1+cell": {
     "cellMetadata": {},
     "inputWidgets": {},
     "nuid": "ea41c37f-0573-4d3e-8af4-d1260bfbdff0",
     "showTitle": false,
     "title": ""
    }
   },
   "source": [
    "\n",
    "## Extrai dados do arquivo Dados_1_.csv"
   ]
  },
  {
   "cell_type": "code",
   "execution_count": 3,
   "metadata": {
    "application/vnd.databricks.v1+cell": {
     "cellMetadata": {
      "byteLimit": 2048000,
      "rowLimit": 10000
     },
     "inputWidgets": {},
     "nuid": "6482be4c-f067-47c9-b0ac-35c938b94601",
     "showTitle": false,
     "title": ""
    }
   },
   "outputs": [
    {
     "ename": "Py4JJavaError",
     "evalue": "An error occurred while calling o81.load.\n: java.nio.file.AccessDeniedException: s3a://bronze/Dados.csv: getFileStatus on s3a://bronze/Dados.csv: com.amazonaws.services.s3.model.AmazonS3Exception: Forbidden (Service: Amazon S3; Status Code: 403; Error Code: 403 Forbidden; Request ID: 184C6CEC690840A1; S3 Extended Request ID: dd9025bab4ad464b049177c95eb6ebf374d3b3fd1af9251148b658df7ac2e3e8; Proxy: null), S3 Extended Request ID: dd9025bab4ad464b049177c95eb6ebf374d3b3fd1af9251148b658df7ac2e3e8:403 Forbidden\n\tat org.apache.hadoop.fs.s3a.S3AUtils.translateException(S3AUtils.java:255)\n\tat org.apache.hadoop.fs.s3a.S3AUtils.translateException(S3AUtils.java:175)\n\tat org.apache.hadoop.fs.s3a.S3AFileSystem.s3GetFileStatus(S3AFileSystem.java:3796)\n\tat org.apache.hadoop.fs.s3a.S3AFileSystem.innerGetFileStatus(S3AFileSystem.java:3688)\n\tat org.apache.hadoop.fs.s3a.S3AFileSystem.lambda$exists$34(S3AFileSystem.java:4703)\n\tat org.apache.hadoop.fs.statistics.impl.IOStatisticsBinding.lambda$trackDurationOfOperation$5(IOStatisticsBinding.java:499)\n\tat org.apache.hadoop.fs.statistics.impl.IOStatisticsBinding.trackDuration(IOStatisticsBinding.java:444)\n\tat org.apache.hadoop.fs.s3a.S3AFileSystem.trackDurationAndSpan(S3AFileSystem.java:2337)\n\tat org.apache.hadoop.fs.s3a.S3AFileSystem.trackDurationAndSpan(S3AFileSystem.java:2356)\n\tat org.apache.hadoop.fs.s3a.S3AFileSystem.exists(S3AFileSystem.java:4701)\n\tat org.apache.spark.sql.execution.datasources.DataSource$.$anonfun$checkAndGlobPathIfNecessary$4(DataSource.scala:756)\n\tat org.apache.spark.sql.execution.datasources.DataSource$.$anonfun$checkAndGlobPathIfNecessary$4$adapted(DataSource.scala:754)\n\tat org.apache.spark.util.ThreadUtils$.$anonfun$parmap$2(ThreadUtils.scala:384)\n\tat scala.concurrent.Future$.$anonfun$apply$1(Future.scala:659)\n\tat scala.util.Success.$anonfun$map$1(Try.scala:255)\n\tat scala.util.Success.map(Try.scala:213)\n\tat scala.concurrent.Future.$anonfun$map$1(Future.scala:292)\n\tat scala.concurrent.impl.Promise.liftedTree1$1(Promise.scala:33)\n\tat scala.concurrent.impl.Promise.$anonfun$transform$1(Promise.scala:33)\n\tat scala.concurrent.impl.CallbackRunnable.run(Promise.scala:64)\n\tat java.base/java.util.concurrent.ForkJoinTask$RunnableExecuteAction.exec(Unknown Source)\n\tat java.base/java.util.concurrent.ForkJoinTask.doExec(Unknown Source)\n\tat java.base/java.util.concurrent.ForkJoinPool$WorkQueue.topLevelExec(Unknown Source)\n\tat java.base/java.util.concurrent.ForkJoinPool.scan(Unknown Source)\n\tat java.base/java.util.concurrent.ForkJoinPool.runWorker(Unknown Source)\n\tat java.base/java.util.concurrent.ForkJoinWorkerThread.run(Unknown Source)\nCaused by: com.amazonaws.services.s3.model.AmazonS3Exception: Forbidden (Service: Amazon S3; Status Code: 403; Error Code: 403 Forbidden; Request ID: 184C6CEC690840A1; S3 Extended Request ID: dd9025bab4ad464b049177c95eb6ebf374d3b3fd1af9251148b658df7ac2e3e8; Proxy: null), S3 Extended Request ID: dd9025bab4ad464b049177c95eb6ebf374d3b3fd1af9251148b658df7ac2e3e8\n\tat com.amazonaws.http.AmazonHttpClient$RequestExecutor.handleErrorResponse(AmazonHttpClient.java:1879)\n\tat com.amazonaws.http.AmazonHttpClient$RequestExecutor.handleServiceErrorResponse(AmazonHttpClient.java:1418)\n\tat com.amazonaws.http.AmazonHttpClient$RequestExecutor.executeOneRequest(AmazonHttpClient.java:1387)\n\tat com.amazonaws.http.AmazonHttpClient$RequestExecutor.executeHelper(AmazonHttpClient.java:1157)\n\tat com.amazonaws.http.AmazonHttpClient$RequestExecutor.doExecute(AmazonHttpClient.java:814)\n\tat com.amazonaws.http.AmazonHttpClient$RequestExecutor.executeWithTimer(AmazonHttpClient.java:781)\n\tat com.amazonaws.http.AmazonHttpClient$RequestExecutor.execute(AmazonHttpClient.java:755)\n\tat com.amazonaws.http.AmazonHttpClient$RequestExecutor.access$500(AmazonHttpClient.java:715)\n\tat com.amazonaws.http.AmazonHttpClient$RequestExecutionBuilderImpl.execute(AmazonHttpClient.java:697)\n\tat com.amazonaws.http.AmazonHttpClient.execute(AmazonHttpClient.java:561)\n\tat com.amazonaws.http.AmazonHttpClient.execute(AmazonHttpClient.java:541)\n\tat com.amazonaws.services.s3.AmazonS3Client.invoke(AmazonS3Client.java:5456)\n\tat com.amazonaws.services.s3.AmazonS3Client.invoke(AmazonS3Client.java:5403)\n\tat com.amazonaws.services.s3.AmazonS3Client.getObjectMetadata(AmazonS3Client.java:1372)\n\tat org.apache.hadoop.fs.s3a.S3AFileSystem.lambda$getObjectMetadata$10(S3AFileSystem.java:2545)\n\tat org.apache.hadoop.fs.s3a.Invoker.retryUntranslated(Invoker.java:414)\n\tat org.apache.hadoop.fs.s3a.Invoker.retryUntranslated(Invoker.java:377)\n\tat org.apache.hadoop.fs.s3a.S3AFileSystem.getObjectMetadata(S3AFileSystem.java:2533)\n\tat org.apache.hadoop.fs.s3a.S3AFileSystem.getObjectMetadata(S3AFileSystem.java:2513)\n\tat org.apache.hadoop.fs.s3a.S3AFileSystem.s3GetFileStatus(S3AFileSystem.java:3776)\n\t... 23 more\n",
     "output_type": "error",
     "traceback": [
      "\u001b[31m---------------------------------------------------------------------------\u001b[39m",
      "\u001b[31mPy4JJavaError\u001b[39m                             Traceback (most recent call last)",
      "\u001b[36mCell\u001b[39m\u001b[36m \u001b[39m\u001b[32mIn[3]\u001b[39m\u001b[32m, line 17\u001b[39m\n\u001b[32m     10\u001b[39m delimiter = \u001b[33m\"\u001b[39m\u001b[33m,\u001b[39m\u001b[33m\"\u001b[39m\n\u001b[32m     12\u001b[39m \u001b[38;5;66;03m# Cria o de partidas utilizando o spark\u001b[39;00m\n\u001b[32m     13\u001b[39m df_partidas = \u001b[43mspark\u001b[49m\u001b[43m.\u001b[49m\u001b[43mread\u001b[49m\u001b[43m.\u001b[49m\u001b[43mformat\u001b[49m\u001b[43m(\u001b[49m\u001b[33;43m'\u001b[39;49m\u001b[33;43mcsv\u001b[39;49m\u001b[33;43m'\u001b[39;49m\u001b[43m)\u001b[49m\u001b[43m \u001b[49m\u001b[43m\\\u001b[49m\n\u001b[32m     14\u001b[39m \u001b[43m \u001b[49m\u001b[43m.\u001b[49m\u001b[43moption\u001b[49m\u001b[43m(\u001b[49m\u001b[33;43m\"\u001b[39;49m\u001b[33;43minferSchema\u001b[39;49m\u001b[33;43m\"\u001b[39;49m\u001b[43m,\u001b[49m\u001b[43m \u001b[49m\u001b[43minfer_schema\u001b[49m\u001b[43m)\u001b[49m\u001b[43m \u001b[49m\u001b[43m\\\u001b[49m\n\u001b[32m     15\u001b[39m \u001b[43m \u001b[49m\u001b[43m.\u001b[49m\u001b[43moption\u001b[49m\u001b[43m(\u001b[49m\u001b[33;43m\"\u001b[39;49m\u001b[33;43mheader\u001b[39;49m\u001b[33;43m\"\u001b[39;49m\u001b[43m,\u001b[49m\u001b[43m \u001b[49m\u001b[43mfirst_row_is_header\u001b[49m\u001b[43m)\u001b[49m\u001b[43m \u001b[49m\u001b[43m\\\u001b[49m\n\u001b[32m     16\u001b[39m \u001b[43m \u001b[49m\u001b[43m.\u001b[49m\u001b[43moption\u001b[49m\u001b[43m(\u001b[49m\u001b[33;43m\"\u001b[39;49m\u001b[33;43msep\u001b[39;49m\u001b[33;43m\"\u001b[39;49m\u001b[43m,\u001b[49m\u001b[43m \u001b[49m\u001b[43mdelimiter\u001b[49m\u001b[43m)\u001b[49m\u001b[43m \u001b[49m\u001b[43m\\\u001b[49m\n\u001b[32m---> \u001b[39m\u001b[32m17\u001b[39m \u001b[43m \u001b[49m\u001b[43m.\u001b[49m\u001b[43mload\u001b[49m\u001b[43m(\u001b[49m\u001b[43mfile_location\u001b[49m\u001b[43m)\u001b[49m\n\u001b[32m     19\u001b[39m \u001b[38;5;66;03m# Apresentando o df_partidas\u001b[39;00m\n\u001b[32m     20\u001b[39m display(df_partidas)\n",
      "\u001b[36mFile \u001b[39m\u001b[32m~opt/bitnami/spark/python/pyspark/sql/readwriter.py:307\u001b[39m, in \u001b[36mDataFrameReader.load\u001b[39m\u001b[34m(self, path, format, schema, **options)\u001b[39m\n\u001b[32m    305\u001b[39m \u001b[38;5;28mself\u001b[39m.options(**options)\n\u001b[32m    306\u001b[39m \u001b[38;5;28;01mif\u001b[39;00m \u001b[38;5;28misinstance\u001b[39m(path, \u001b[38;5;28mstr\u001b[39m):\n\u001b[32m--> \u001b[39m\u001b[32m307\u001b[39m     \u001b[38;5;28;01mreturn\u001b[39;00m \u001b[38;5;28mself\u001b[39m._df(\u001b[38;5;28;43mself\u001b[39;49m\u001b[43m.\u001b[49m\u001b[43m_jreader\u001b[49m\u001b[43m.\u001b[49m\u001b[43mload\u001b[49m\u001b[43m(\u001b[49m\u001b[43mpath\u001b[49m\u001b[43m)\u001b[49m)\n\u001b[32m    308\u001b[39m \u001b[38;5;28;01melif\u001b[39;00m path \u001b[38;5;129;01mis\u001b[39;00m \u001b[38;5;129;01mnot\u001b[39;00m \u001b[38;5;28;01mNone\u001b[39;00m:\n\u001b[32m    309\u001b[39m     \u001b[38;5;28;01mif\u001b[39;00m \u001b[38;5;28mtype\u001b[39m(path) != \u001b[38;5;28mlist\u001b[39m:\n",
      "\u001b[36mFile \u001b[39m\u001b[32m~opt/bitnami/spark/python/lib/py4j.zip/py4j/java_gateway.py:1322\u001b[39m, in \u001b[36mJavaMember.__call__\u001b[39m\u001b[34m(self, *args)\u001b[39m\n\u001b[32m   1316\u001b[39m command = proto.CALL_COMMAND_NAME +\\\n\u001b[32m   1317\u001b[39m     \u001b[38;5;28mself\u001b[39m.command_header +\\\n\u001b[32m   1318\u001b[39m     args_command +\\\n\u001b[32m   1319\u001b[39m     proto.END_COMMAND_PART\n\u001b[32m   1321\u001b[39m answer = \u001b[38;5;28mself\u001b[39m.gateway_client.send_command(command)\n\u001b[32m-> \u001b[39m\u001b[32m1322\u001b[39m return_value = \u001b[43mget_return_value\u001b[49m\u001b[43m(\u001b[49m\n\u001b[32m   1323\u001b[39m \u001b[43m    \u001b[49m\u001b[43manswer\u001b[49m\u001b[43m,\u001b[49m\u001b[43m \u001b[49m\u001b[38;5;28;43mself\u001b[39;49m\u001b[43m.\u001b[49m\u001b[43mgateway_client\u001b[49m\u001b[43m,\u001b[49m\u001b[43m \u001b[49m\u001b[38;5;28;43mself\u001b[39;49m\u001b[43m.\u001b[49m\u001b[43mtarget_id\u001b[49m\u001b[43m,\u001b[49m\u001b[43m \u001b[49m\u001b[38;5;28;43mself\u001b[39;49m\u001b[43m.\u001b[49m\u001b[43mname\u001b[49m\u001b[43m)\u001b[49m\n\u001b[32m   1325\u001b[39m \u001b[38;5;28;01mfor\u001b[39;00m temp_arg \u001b[38;5;129;01min\u001b[39;00m temp_args:\n\u001b[32m   1326\u001b[39m     \u001b[38;5;28;01mif\u001b[39;00m \u001b[38;5;28mhasattr\u001b[39m(temp_arg, \u001b[33m\"\u001b[39m\u001b[33m_detach\u001b[39m\u001b[33m\"\u001b[39m):\n",
      "\u001b[36mFile \u001b[39m\u001b[32m~opt/bitnami/spark/python/pyspark/errors/exceptions/captured.py:179\u001b[39m, in \u001b[36mcapture_sql_exception.<locals>.deco\u001b[39m\u001b[34m(*a, **kw)\u001b[39m\n\u001b[32m    177\u001b[39m \u001b[38;5;28;01mdef\u001b[39;00m\u001b[38;5;250m \u001b[39m\u001b[34mdeco\u001b[39m(*a: Any, **kw: Any) -> Any:\n\u001b[32m    178\u001b[39m     \u001b[38;5;28;01mtry\u001b[39;00m:\n\u001b[32m--> \u001b[39m\u001b[32m179\u001b[39m         \u001b[38;5;28;01mreturn\u001b[39;00m \u001b[43mf\u001b[49m\u001b[43m(\u001b[49m\u001b[43m*\u001b[49m\u001b[43ma\u001b[49m\u001b[43m,\u001b[49m\u001b[43m \u001b[49m\u001b[43m*\u001b[49m\u001b[43m*\u001b[49m\u001b[43mkw\u001b[49m\u001b[43m)\u001b[49m\n\u001b[32m    180\u001b[39m     \u001b[38;5;28;01mexcept\u001b[39;00m Py4JJavaError \u001b[38;5;28;01mas\u001b[39;00m e:\n\u001b[32m    181\u001b[39m         converted = convert_exception(e.java_exception)\n",
      "\u001b[36mFile \u001b[39m\u001b[32m~opt/bitnami/spark/python/lib/py4j.zip/py4j/protocol.py:326\u001b[39m, in \u001b[36mget_return_value\u001b[39m\u001b[34m(answer, gateway_client, target_id, name)\u001b[39m\n\u001b[32m    324\u001b[39m value = OUTPUT_CONVERTER[\u001b[38;5;28mtype\u001b[39m](answer[\u001b[32m2\u001b[39m:], gateway_client)\n\u001b[32m    325\u001b[39m \u001b[38;5;28;01mif\u001b[39;00m answer[\u001b[32m1\u001b[39m] == REFERENCE_TYPE:\n\u001b[32m--> \u001b[39m\u001b[32m326\u001b[39m     \u001b[38;5;28;01mraise\u001b[39;00m Py4JJavaError(\n\u001b[32m    327\u001b[39m         \u001b[33m\"\u001b[39m\u001b[33mAn error occurred while calling \u001b[39m\u001b[38;5;132;01m{0}\u001b[39;00m\u001b[38;5;132;01m{1}\u001b[39;00m\u001b[38;5;132;01m{2}\u001b[39;00m\u001b[33m.\u001b[39m\u001b[38;5;130;01m\\n\u001b[39;00m\u001b[33m\"\u001b[39m.\n\u001b[32m    328\u001b[39m         \u001b[38;5;28mformat\u001b[39m(target_id, \u001b[33m\"\u001b[39m\u001b[33m.\u001b[39m\u001b[33m\"\u001b[39m, name), value)\n\u001b[32m    329\u001b[39m \u001b[38;5;28;01melse\u001b[39;00m:\n\u001b[32m    330\u001b[39m     \u001b[38;5;28;01mraise\u001b[39;00m Py4JError(\n\u001b[32m    331\u001b[39m         \u001b[33m\"\u001b[39m\u001b[33mAn error occurred while calling \u001b[39m\u001b[38;5;132;01m{0}\u001b[39;00m\u001b[38;5;132;01m{1}\u001b[39;00m\u001b[38;5;132;01m{2}\u001b[39;00m\u001b[33m. Trace:\u001b[39m\u001b[38;5;130;01m\\n\u001b[39;00m\u001b[38;5;132;01m{3}\u001b[39;00m\u001b[38;5;130;01m\\n\u001b[39;00m\u001b[33m\"\u001b[39m.\n\u001b[32m    332\u001b[39m         \u001b[38;5;28mformat\u001b[39m(target_id, \u001b[33m\"\u001b[39m\u001b[33m.\u001b[39m\u001b[33m\"\u001b[39m, name, value))\n",
      "\u001b[31mPy4JJavaError\u001b[39m: An error occurred while calling o81.load.\n: java.nio.file.AccessDeniedException: s3a://bronze/Dados.csv: getFileStatus on s3a://bronze/Dados.csv: com.amazonaws.services.s3.model.AmazonS3Exception: Forbidden (Service: Amazon S3; Status Code: 403; Error Code: 403 Forbidden; Request ID: 184C6CEC690840A1; S3 Extended Request ID: dd9025bab4ad464b049177c95eb6ebf374d3b3fd1af9251148b658df7ac2e3e8; Proxy: null), S3 Extended Request ID: dd9025bab4ad464b049177c95eb6ebf374d3b3fd1af9251148b658df7ac2e3e8:403 Forbidden\n\tat org.apache.hadoop.fs.s3a.S3AUtils.translateException(S3AUtils.java:255)\n\tat org.apache.hadoop.fs.s3a.S3AUtils.translateException(S3AUtils.java:175)\n\tat org.apache.hadoop.fs.s3a.S3AFileSystem.s3GetFileStatus(S3AFileSystem.java:3796)\n\tat org.apache.hadoop.fs.s3a.S3AFileSystem.innerGetFileStatus(S3AFileSystem.java:3688)\n\tat org.apache.hadoop.fs.s3a.S3AFileSystem.lambda$exists$34(S3AFileSystem.java:4703)\n\tat org.apache.hadoop.fs.statistics.impl.IOStatisticsBinding.lambda$trackDurationOfOperation$5(IOStatisticsBinding.java:499)\n\tat org.apache.hadoop.fs.statistics.impl.IOStatisticsBinding.trackDuration(IOStatisticsBinding.java:444)\n\tat org.apache.hadoop.fs.s3a.S3AFileSystem.trackDurationAndSpan(S3AFileSystem.java:2337)\n\tat org.apache.hadoop.fs.s3a.S3AFileSystem.trackDurationAndSpan(S3AFileSystem.java:2356)\n\tat org.apache.hadoop.fs.s3a.S3AFileSystem.exists(S3AFileSystem.java:4701)\n\tat org.apache.spark.sql.execution.datasources.DataSource$.$anonfun$checkAndGlobPathIfNecessary$4(DataSource.scala:756)\n\tat org.apache.spark.sql.execution.datasources.DataSource$.$anonfun$checkAndGlobPathIfNecessary$4$adapted(DataSource.scala:754)\n\tat org.apache.spark.util.ThreadUtils$.$anonfun$parmap$2(ThreadUtils.scala:384)\n\tat scala.concurrent.Future$.$anonfun$apply$1(Future.scala:659)\n\tat scala.util.Success.$anonfun$map$1(Try.scala:255)\n\tat scala.util.Success.map(Try.scala:213)\n\tat scala.concurrent.Future.$anonfun$map$1(Future.scala:292)\n\tat scala.concurrent.impl.Promise.liftedTree1$1(Promise.scala:33)\n\tat scala.concurrent.impl.Promise.$anonfun$transform$1(Promise.scala:33)\n\tat scala.concurrent.impl.CallbackRunnable.run(Promise.scala:64)\n\tat java.base/java.util.concurrent.ForkJoinTask$RunnableExecuteAction.exec(Unknown Source)\n\tat java.base/java.util.concurrent.ForkJoinTask.doExec(Unknown Source)\n\tat java.base/java.util.concurrent.ForkJoinPool$WorkQueue.topLevelExec(Unknown Source)\n\tat java.base/java.util.concurrent.ForkJoinPool.scan(Unknown Source)\n\tat java.base/java.util.concurrent.ForkJoinPool.runWorker(Unknown Source)\n\tat java.base/java.util.concurrent.ForkJoinWorkerThread.run(Unknown Source)\nCaused by: com.amazonaws.services.s3.model.AmazonS3Exception: Forbidden (Service: Amazon S3; Status Code: 403; Error Code: 403 Forbidden; Request ID: 184C6CEC690840A1; S3 Extended Request ID: dd9025bab4ad464b049177c95eb6ebf374d3b3fd1af9251148b658df7ac2e3e8; Proxy: null), S3 Extended Request ID: dd9025bab4ad464b049177c95eb6ebf374d3b3fd1af9251148b658df7ac2e3e8\n\tat com.amazonaws.http.AmazonHttpClient$RequestExecutor.handleErrorResponse(AmazonHttpClient.java:1879)\n\tat com.amazonaws.http.AmazonHttpClient$RequestExecutor.handleServiceErrorResponse(AmazonHttpClient.java:1418)\n\tat com.amazonaws.http.AmazonHttpClient$RequestExecutor.executeOneRequest(AmazonHttpClient.java:1387)\n\tat com.amazonaws.http.AmazonHttpClient$RequestExecutor.executeHelper(AmazonHttpClient.java:1157)\n\tat com.amazonaws.http.AmazonHttpClient$RequestExecutor.doExecute(AmazonHttpClient.java:814)\n\tat com.amazonaws.http.AmazonHttpClient$RequestExecutor.executeWithTimer(AmazonHttpClient.java:781)\n\tat com.amazonaws.http.AmazonHttpClient$RequestExecutor.execute(AmazonHttpClient.java:755)\n\tat com.amazonaws.http.AmazonHttpClient$RequestExecutor.access$500(AmazonHttpClient.java:715)\n\tat com.amazonaws.http.AmazonHttpClient$RequestExecutionBuilderImpl.execute(AmazonHttpClient.java:697)\n\tat com.amazonaws.http.AmazonHttpClient.execute(AmazonHttpClient.java:561)\n\tat com.amazonaws.http.AmazonHttpClient.execute(AmazonHttpClient.java:541)\n\tat com.amazonaws.services.s3.AmazonS3Client.invoke(AmazonS3Client.java:5456)\n\tat com.amazonaws.services.s3.AmazonS3Client.invoke(AmazonS3Client.java:5403)\n\tat com.amazonaws.services.s3.AmazonS3Client.getObjectMetadata(AmazonS3Client.java:1372)\n\tat org.apache.hadoop.fs.s3a.S3AFileSystem.lambda$getObjectMetadata$10(S3AFileSystem.java:2545)\n\tat org.apache.hadoop.fs.s3a.Invoker.retryUntranslated(Invoker.java:414)\n\tat org.apache.hadoop.fs.s3a.Invoker.retryUntranslated(Invoker.java:377)\n\tat org.apache.hadoop.fs.s3a.S3AFileSystem.getObjectMetadata(S3AFileSystem.java:2533)\n\tat org.apache.hadoop.fs.s3a.S3AFileSystem.getObjectMetadata(S3AFileSystem.java:2513)\n\tat org.apache.hadoop.fs.s3a.S3AFileSystem.s3GetFileStatus(S3AFileSystem.java:3776)\n\t... 23 more\n"
     ]
    }
   ],
   "source": [
    "# Local do arquivo\n",
    "file_location = \"s3a://bronze/Dados.csv\"\n",
    "\n",
    "\n",
    "# Configurando CSV\n",
    "infer_schema = \"false\"\n",
    "# A primeira coluna é o título: True (Verdadeiro)\n",
    "first_row_is_header = \"True\"\n",
    "# Delimitador da do arquivo: (\",\")\n",
    "delimiter = \",\"\n",
    "\n",
    "# Cria o de partidas utilizando o spark\n",
    "df_partidas = spark.read.format('csv') \\\n",
    " .option(\"inferSchema\", infer_schema) \\\n",
    " .option(\"header\", first_row_is_header) \\\n",
    " .option(\"sep\", delimiter) \\\n",
    " .load(file_location)\n",
    " \n",
    "# Apresentando o df_partidas\n",
    "display(df_partidas)"
   ]
  },
  {
   "cell_type": "markdown",
   "metadata": {
    "application/vnd.databricks.v1+cell": {
     "cellMetadata": {},
     "inputWidgets": {},
     "nuid": "055f5a24-4b22-4daa-a9a6-af86cfb876f5",
     "showTitle": false,
     "title": ""
    }
   },
   "source": [
    "\n",
    "## Questões"
   ]
  },
  {
   "cell_type": "code",
   "execution_count": null,
   "metadata": {
    "application/vnd.databricks.v1+cell": {
     "cellMetadata": {
      "byteLimit": 2048000,
      "rowLimit": 10000
     },
     "inputWidgets": {},
     "nuid": "0f5c5560-202d-42e7-be26-6d26939e44ac",
     "showTitle": false,
     "title": ""
    }
   },
   "outputs": [
    {
     "name": "stdout",
     "output_type": "stream",
     "text": [
      "40839"
     ]
    }
   ],
   "source": [
    "# 1 - Quantos registros existem na base?\n",
    "\n",
    "display(df_partidas.count())"
   ]
  },
  {
   "cell_type": "code",
   "execution_count": null,
   "metadata": {
    "application/vnd.databricks.v1+cell": {
     "cellMetadata": {
      "byteLimit": 2048000,
      "rowLimit": 10000
     },
     "inputWidgets": {},
     "nuid": "c6ea6b6c-a63d-4db9-aa9f-a2278d48f543",
     "showTitle": false,
     "title": ""
    }
   },
   "outputs": [
    {
     "data": {
      "text/html": [
       "<style scoped>\n",
       "  .table-result-container {\n",
       "    max-height: 300px;\n",
       "    overflow: auto;\n",
       "  }\n",
       "  table, th, td {\n",
       "    border: 1px solid black;\n",
       "    border-collapse: collapse;\n",
       "  }\n",
       "  th, td {\n",
       "    padding: 5px;\n",
       "  }\n",
       "  th {\n",
       "    text-align: left;\n",
       "  }\n",
       "</style><div class='table-result-container'><table class='table-result'><thead style='background-color: white'><tr><th>count(DISTINCT home_team)</th></tr></thead><tbody><tr><td>309</td></tr></tbody></table></div>"
      ]
     },
     "metadata": {
      "application/vnd.databricks.v1+output": {
       "addedWidgets": {},
       "aggData": [],
       "aggError": "",
       "aggOverflow": false,
       "aggSchema": [],
       "aggSeriesLimitReached": false,
       "aggType": "",
       "arguments": {},
       "columnCustomDisplayInfos": {},
       "data": [
        [
         309
        ]
       ],
       "datasetInfos": [],
       "dbfsResultPath": null,
       "isJsonSchema": true,
       "metadata": {},
       "overflow": false,
       "plotOptions": {
        "customPlotOptions": {},
        "displayType": "table",
        "pivotAggregation": null,
        "pivotColumns": null,
        "xColumns": null,
        "yColumns": null
       },
       "removedWidgets": [],
       "schema": [
        {
         "metadata": "{}",
         "name": "count(DISTINCT home_team)",
         "type": "\"long\""
        }
       ],
       "type": "table"
      }
     },
     "output_type": "display_data"
    }
   ],
   "source": [
    "# 2 - Quantas equipes únicas mandantes existem na base?\n",
    "\n",
    "display(df_partidas.select(countDistinct('home_team')))"
   ]
  },
  {
   "cell_type": "code",
   "execution_count": null,
   "metadata": {
    "application/vnd.databricks.v1+cell": {
     "cellMetadata": {
      "byteLimit": 2048000,
      "rowLimit": 10000
     },
     "inputWidgets": {},
     "nuid": "31b04104-8c04-4f5e-b979-9d2fece03b24",
     "showTitle": false,
     "title": ""
    }
   },
   "outputs": [
    {
     "name": "stdout",
     "output_type": "stream",
     "text": [
      "19856"
     ]
    }
   ],
   "source": [
    "# 3 - Quantas vezes as equipes mandantes saíram vitoriosas?\n",
    "\n",
    "df_mandantes_vitoriosos = df_partidas.where(df_partidas.home_score > df_partidas.away_score).count()\n",
    "display(df_mandantes_vitoriosos)"
   ]
  },
  {
   "cell_type": "code",
   "execution_count": null,
   "metadata": {
    "application/vnd.databricks.v1+cell": {
     "cellMetadata": {
      "byteLimit": 2048000,
      "rowLimit": 10000
     },
     "inputWidgets": {},
     "nuid": "ee964a22-fea6-47b5-8de5-99e1316bfc19",
     "showTitle": false,
     "title": ""
    }
   },
   "outputs": [
    {
     "name": "stdout",
     "output_type": "stream",
     "text": [
      "11552"
     ]
    }
   ],
   "source": [
    "# 4 - Quantas vezes as equipes visitantes saíram vitoriosas?\n",
    "\n",
    "df_visitantes_vitoriosos = df_partidas.where(df_partidas.home_score < df_partidas.away_score).count()\n",
    "display(df_visitantes_vitoriosos)"
   ]
  },
  {
   "cell_type": "code",
   "execution_count": null,
   "metadata": {
    "application/vnd.databricks.v1+cell": {
     "cellMetadata": {
      "byteLimit": 2048000,
      "rowLimit": 10000
     },
     "inputWidgets": {},
     "nuid": "945fcae9-4707-47bf-ad40-460c9ccf75c7",
     "showTitle": false,
     "title": ""
    }
   },
   "outputs": [
    {
     "name": "stdout",
     "output_type": "stream",
     "text": [
      "9431"
     ]
    }
   ],
   "source": [
    "#5 - Quantas partidas resultaram em empate?\n",
    "\n",
    "df_empates = df_partidas.where(df_partidas.home_score == df_partidas.away_score).count()\n",
    "display(df_empates)"
   ]
  },
  {
   "cell_type": "code",
   "execution_count": null,
   "metadata": {
    "application/vnd.databricks.v1+cell": {
     "cellMetadata": {
      "byteLimit": 2048000,
      "rowLimit": 10000
     },
     "inputWidgets": {},
     "nuid": "d95c0187-b31f-4245-a5fd-17ab9a297c10",
     "showTitle": false,
     "title": ""
    }
   },
   "outputs": [
    {
     "data": {
      "text/html": [
       "<style scoped>\n",
       "  .table-result-container {\n",
       "    max-height: 300px;\n",
       "    overflow: auto;\n",
       "  }\n",
       "  table, th, td {\n",
       "    border: 1px solid black;\n",
       "    border-collapse: collapse;\n",
       "  }\n",
       "  th, td {\n",
       "    padding: 5px;\n",
       "  }\n",
       "  th {\n",
       "    text-align: left;\n",
       "  }\n",
       "</style><div class='table-result-container'><table class='table-result'><thead style='background-color: white'><tr><th>country</th><th>count</th></tr></thead><tbody><tr><td>United States</td><td>1144</td></tr><tr><td>France</td><td>801</td></tr><tr><td>England</td><td>687</td></tr><tr><td>Malaysia</td><td>644</td></tr><tr><td>Sweden</td><td>637</td></tr><tr><td>Germany</td><td>581</td></tr><tr><td>Brazil</td><td>529</td></tr><tr><td>Spain</td><td>517</td></tr><tr><td>Thailand</td><td>483</td></tr><tr><td>Italy</td><td>480</td></tr><tr><td>Switzerland</td><td>477</td></tr><tr><td>Austria</td><td>475</td></tr><tr><td>United Arab Emirates</td><td>472</td></tr><tr><td>South Africa</td><td>470</td></tr><tr><td>Qatar</td><td>467</td></tr><tr><td>South Korea</td><td>453</td></tr><tr><td>Argentina</td><td>449</td></tr><tr><td>Hungary</td><td>431</td></tr><tr><td>Chile</td><td>405</td></tr><tr><td>Belgium</td><td>396</td></tr><tr><td>Mexico</td><td>392</td></tr><tr><td>Egypt</td><td>391</td></tr><tr><td>Netherlands</td><td>390</td></tr><tr><td>Norway</td><td>385</td></tr><tr><td>Scotland</td><td>385</td></tr><tr><td>Uruguay</td><td>374</td></tr><tr><td>Poland</td><td>372</td></tr><tr><td>Denmark</td><td>371</td></tr><tr><td>Trinidad and Tobago</td><td>369</td></tr><tr><td>Singapore</td><td>368</td></tr><tr><td>Saudi Arabia</td><td>367</td></tr><tr><td>Kuwait</td><td>355</td></tr><tr><td>Portugal</td><td>355</td></tr><tr><td>Tunisia</td><td>351</td></tr><tr><td>Kenya</td><td>349</td></tr><tr><td>Japan</td><td>344</td></tr><tr><td>Finland</td><td>325</td></tr><tr><td>Wales</td><td>324</td></tr><tr><td>Republic of Ireland</td><td>324</td></tr><tr><td>Uganda</td><td>307</td></tr><tr><td>China PR</td><td>304</td></tr><tr><td>Peru</td><td>297</td></tr><tr><td>Morocco</td><td>296</td></tr><tr><td>Turkey</td><td>294</td></tr><tr><td>Tanzania</td><td>294</td></tr><tr><td>Australia</td><td>294</td></tr><tr><td>Romania</td><td>286</td></tr><tr><td>Indonesia</td><td>285</td></tr><tr><td>Malawi</td><td>284</td></tr><tr><td>Greece</td><td>283</td></tr><tr><td>Jamaica</td><td>276</td></tr><tr><td>Costa Rica</td><td>268</td></tr><tr><td>Cyprus</td><td>266</td></tr><tr><td>Ethiopia</td><td>261</td></tr><tr><td>Bulgaria</td><td>261</td></tr><tr><td>Iran</td><td>255</td></tr><tr><td>India</td><td>253</td></tr><tr><td>Malta</td><td>251</td></tr><tr><td>Oman</td><td>251</td></tr><tr><td>Ghana</td><td>247</td></tr><tr><td>Northern Ireland</td><td>243</td></tr><tr><td>Zambia</td><td>241</td></tr><tr><td>Jordan</td><td>236</td></tr><tr><td>Bahrain</td><td>234</td></tr><tr><td>Honduras</td><td>228</td></tr><tr><td>Gabon</td><td>224</td></tr><tr><td>Israel</td><td>222</td></tr><tr><td>Ivory Coast</td><td>221</td></tr><tr><td>Luxembourg</td><td>219</td></tr><tr><td>Paraguay</td><td>218</td></tr><tr><td>Yugoslavia</td><td>217</td></tr><tr><td>Estonia</td><td>212</td></tr><tr><td>Hong Kong</td><td>210</td></tr><tr><td>Russia</td><td>209</td></tr><tr><td>Ecuador</td><td>206</td></tr><tr><td>Nigeria</td><td>206</td></tr><tr><td>Senegal</td><td>202</td></tr><tr><td>Algeria</td><td>198</td></tr><tr><td>Haiti</td><td>198</td></tr><tr><td>Mali</td><td>198</td></tr><tr><td>Czechoslovakia</td><td>194</td></tr><tr><td>Bolivia</td><td>193</td></tr><tr><td>Iceland</td><td>191</td></tr><tr><td>Colombia</td><td>188</td></tr><tr><td>Guatemala</td><td>185</td></tr><tr><td>Panama</td><td>182</td></tr><tr><td>El Salvador</td><td>180</td></tr><tr><td>Venezuela</td><td>170</td></tr><tr><td>Zimbabwe</td><td>170</td></tr><tr><td>Soviet Union</td><td>164</td></tr><tr><td>Congo</td><td>164</td></tr><tr><td>Cameroon</td><td>164</td></tr><tr><td>Libya</td><td>163</td></tr><tr><td>Latvia</td><td>161</td></tr><tr><td>Albania</td><td>159</td></tr><tr><td>Lebanon</td><td>158</td></tr><tr><td>Burkina Faso</td><td>158</td></tr><tr><td>Rwanda</td><td>157</td></tr><tr><td>Sudan</td><td>157</td></tr><tr><td>Angola</td><td>153</td></tr><tr><td>Iraq</td><td>146</td></tr><tr><td>Barbados</td><td>146</td></tr><tr><td>Martinique</td><td>143</td></tr><tr><td>Fiji</td><td>139</td></tr><tr><td>New Zealand</td><td>139</td></tr><tr><td>Togo</td><td>136</td></tr><tr><td>Lithuania</td><td>134</td></tr><tr><td>Mozambique</td><td>134</td></tr><tr><td>Botswana</td><td>134</td></tr><tr><td>Suriname</td><td>131</td></tr><tr><td>Liberia</td><td>131</td></tr><tr><td>Ukraine</td><td>130</td></tr><tr><td>Guinea</td><td>130</td></tr><tr><td>German DR</td><td>129</td></tr><tr><td>Canada</td><td>128</td></tr><tr><td>Croatia</td><td>125</td></tr><tr><td>Vietnam</td><td>125</td></tr><tr><td>Slovakia</td><td>123</td></tr><tr><td>New Caledonia</td><td>123</td></tr><tr><td>Georgia</td><td>122</td></tr><tr><td>Gambia</td><td>122</td></tr><tr><td>Sierra Leone</td><td>121</td></tr><tr><td>Czech Republic</td><td>119</td></tr><tr><td>Eswatini</td><td>114</td></tr><tr><td>Bangladesh</td><td>108</td></tr><tr><td>Saint Kitts and Nevis</td><td>108</td></tr><tr><td>Namibia</td><td>108</td></tr><tr><td>North Macedonia</td><td>108</td></tr><tr><td>Slovenia</td><td>106</td></tr><tr><td>Azerbaijan</td><td>105</td></tr><tr><td>Equatorial Guinea</td><td>104</td></tr><tr><td>Syria</td><td>104</td></tr><tr><td>Uzbekistan</td><td>104</td></tr><tr><td>Benin</td><td>102</td></tr><tr><td>Faroe Islands</td><td>101</td></tr><tr><td>Antigua and Barbuda</td><td>101</td></tr><tr><td>Lesotho</td><td>99</td></tr><tr><td>Guyana</td><td>98</td></tr><tr><td>Grenada</td><td>98</td></tr><tr><td>Malaya</td><td>95</td></tr><tr><td>Nepal</td><td>95</td></tr><tr><td>Madagascar</td><td>94</td></tr><tr><td>Liechtenstein</td><td>89</td></tr><tr><td>Belarus</td><td>88</td></tr><tr><td>Mauritania</td><td>88</td></tr><tr><td>Guadeloupe</td><td>88</td></tr><tr><td>Saint Lucia</td><td>86</td></tr><tr><td>Mauritius</td><td>86</td></tr><tr><td>Armenia</td><td>84</td></tr><tr><td>Philippines</td><td>83</td></tr><tr><td>Bosnia and Herzegovina</td><td>82</td></tr><tr><td>Bermuda</td><td>82</td></tr><tr><td>Niger</td><td>81</td></tr><tr><td>Kazakhstan</td><td>81</td></tr><tr><td>Burma</td><td>79</td></tr><tr><td>Moldova</td><td>79</td></tr><tr><td>Cambodia</td><td>78</td></tr><tr><td>DR Congo</td><td>78</td></tr><tr><td>San Marino</td><td>77</td></tr><tr><td>French Polynesia</td><td>77</td></tr><tr><td>Cuba</td><td>76</td></tr><tr><td>Cape Verde</td><td>76</td></tr><tr><td>Maldives</td><td>73</td></tr><tr><td>Netherlands Antilles</td><td>73</td></tr><tr><td>Vietnam Republic</td><td>72</td></tr><tr><td>Samoa</td><td>72</td></tr><tr><td>Jersey</td><td>68</td></tr><tr><td>Solomon Islands</td><td>66</td></tr><tr><td>Pakistan</td><td>66</td></tr><tr><td>Guinea-Bissau</td><td>64</td></tr><tr><td>Andorra</td><td>62</td></tr><tr><td>Dominica</td><td>61</td></tr><tr><td>Sri Lanka</td><td>59</td></tr><tr><td>Saint Vincent and the Grenadines</td><td>59</td></tr><tr><td>Zaïre</td><td>59</td></tr><tr><td>Papua New Guinea</td><td>59</td></tr><tr><td>Yemen</td><td>58</td></tr><tr><td>Vanuatu</td><td>58</td></tr><tr><td>Curaçao</td><td>57</td></tr><tr><td>French Guiana</td><td>55</td></tr><tr><td>Puerto Rico</td><td>54</td></tr><tr><td>North Korea</td><td>54</td></tr><tr><td>Cayman Islands</td><td>52</td></tr><tr><td>Aruba</td><td>50</td></tr><tr><td>Montenegro</td><td>49</td></tr><tr><td>Macau</td><td>48</td></tr><tr><td>Laos</td><td>48</td></tr><tr><td>Dominican Republic</td><td>48</td></tr><tr><td>Chinese Taipei</td><td>47</td></tr><tr><td>Réunion</td><td>47</td></tr><tr><td>Tajikistan</td><td>46</td></tr><tr><td>Serbia</td><td>45</td></tr><tr><td>Burundi</td><td>43</td></tr><tr><td>Guernsey</td><td>41</td></tr><tr><td>Chad</td><td>40</td></tr><tr><td>Guam</td><td>40</td></tr><tr><td>Seychelles</td><td>40</td></tr><tr><td>Northern Cyprus</td><td>35</td></tr><tr><td>Zanzibar</td><td>34</td></tr><tr><td>Turkmenistan</td><td>33</td></tr><tr><td>Kyrgyzstan</td><td>32</td></tr><tr><td>Central African Republic</td><td>31</td></tr><tr><td>Gibraltar</td><td>30</td></tr><tr><td>Netherlands Guyana</td><td>29</td></tr><tr><td>British Virgin Islands</td><td>29</td></tr><tr><td>British Guyana</td><td>28</td></tr><tr><td>Tanganyika</td><td>28</td></tr><tr><td>Western Samoa</td><td>27</td></tr><tr><td>Nicaragua</td><td>26</td></tr><tr><td>Isle of Man</td><td>24</td></tr><tr><td>Upper Volta</td><td>22</td></tr><tr><td>Djibouti</td><td>21</td></tr><tr><td>São Tomé and Príncipe</td><td>17</td></tr><tr><td>Somalia</td><td>17</td></tr><tr><td>Belize</td><td>17</td></tr><tr><td>Eritrea</td><td>16</td></tr><tr><td>Palestine</td><td>16</td></tr><tr><td>Dahomey</td><td>16</td></tr><tr><td>U.S. Virgin Islands</td><td>15</td></tr><tr><td>Comoros</td><td>15</td></tr><tr><td>Northern Rhodesia</td><td>15</td></tr><tr><td>Bhutan</td><td>14</td></tr><tr><td>Mongolia</td><td>13</td></tr><tr><td>Anguilla</td><td>12</td></tr><tr><td>Tonga</td><td>12</td></tr><tr><td>Bahamas</td><td>12</td></tr><tr><td>Kosovo</td><td>11</td></tr><tr><td>Serbia and Montenegro</td><td>11</td></tr><tr><td>Southern Rhodesia</td><td>11</td></tr><tr><td>Saint Martin</td><td>11</td></tr><tr><td>United Arab Republic</td><td>11</td></tr><tr><td>Sint Maarten</td><td>10</td></tr><tr><td>Cook Islands</td><td>10</td></tr><tr><td>Irish Free State</td><td>9</td></tr><tr><td>Brunei</td><td>9</td></tr><tr><td>South Sudan</td><td>9</td></tr><tr><td>Afghanistan</td><td>8</td></tr><tr><td>Ceylon</td><td>8</td></tr><tr><td>Vietnam DR</td><td>7</td></tr><tr><td>Éire</td><td>7</td></tr><tr><td>Gold Coast</td><td>6</td></tr><tr><td>Rhodesia</td><td>6</td></tr><tr><td>Saarland</td><td>6</td></tr><tr><td>Montserrat</td><td>5</td></tr><tr><td>Myanmar</td><td>5</td></tr><tr><td>Manchuria</td><td>5</td></tr><tr><td>Monaco</td><td>5</td></tr><tr><td>Yemen AR</td><td>5</td></tr><tr><td>Nyasaland</td><td>4</td></tr><tr><td>East Timor</td><td>4</td></tr><tr><td>French Somaliland</td><td>4</td></tr><tr><td>Northern Mariana Islands</td><td>3</td></tr><tr><td>Palau</td><td>3</td></tr><tr><td>New Hebrides</td><td>3</td></tr><tr><td>Bohemia</td><td>3</td></tr><tr><td>Turks and Caicos Islands</td><td>2</td></tr><tr><td>Yemen DPR</td><td>2</td></tr><tr><td>Tahiti</td><td>2</td></tr><tr><td>Mayotte</td><td>2</td></tr><tr><td>Greenland</td><td>2</td></tr><tr><td>Belgian Congo</td><td>1</td></tr><tr><td>Lautoka</td><td>1</td></tr><tr><td>Portuguese Guinea</td><td>1</td></tr><tr><td>Mali Federation</td><td>1</td></tr><tr><td>Micronesia</td><td>1</td></tr><tr><td>Bohemia and Moravia</td><td>1</td></tr></tbody></table></div>"
      ]
     },
     "metadata": {
      "application/vnd.databricks.v1+output": {
       "addedWidgets": {},
       "aggData": [],
       "aggError": "",
       "aggOverflow": false,
       "aggSchema": [],
       "aggSeriesLimitReached": false,
       "aggType": "",
       "arguments": {},
       "columnCustomDisplayInfos": {},
       "data": [
        [
         "United States",
         1144
        ],
        [
         "France",
         801
        ],
        [
         "England",
         687
        ],
        [
         "Malaysia",
         644
        ],
        [
         "Sweden",
         637
        ],
        [
         "Germany",
         581
        ],
        [
         "Brazil",
         529
        ],
        [
         "Spain",
         517
        ],
        [
         "Thailand",
         483
        ],
        [
         "Italy",
         480
        ],
        [
         "Switzerland",
         477
        ],
        [
         "Austria",
         475
        ],
        [
         "United Arab Emirates",
         472
        ],
        [
         "South Africa",
         470
        ],
        [
         "Qatar",
         467
        ],
        [
         "South Korea",
         453
        ],
        [
         "Argentina",
         449
        ],
        [
         "Hungary",
         431
        ],
        [
         "Chile",
         405
        ],
        [
         "Belgium",
         396
        ],
        [
         "Mexico",
         392
        ],
        [
         "Egypt",
         391
        ],
        [
         "Netherlands",
         390
        ],
        [
         "Norway",
         385
        ],
        [
         "Scotland",
         385
        ],
        [
         "Uruguay",
         374
        ],
        [
         "Poland",
         372
        ],
        [
         "Denmark",
         371
        ],
        [
         "Trinidad and Tobago",
         369
        ],
        [
         "Singapore",
         368
        ],
        [
         "Saudi Arabia",
         367
        ],
        [
         "Kuwait",
         355
        ],
        [
         "Portugal",
         355
        ],
        [
         "Tunisia",
         351
        ],
        [
         "Kenya",
         349
        ],
        [
         "Japan",
         344
        ],
        [
         "Finland",
         325
        ],
        [
         "Wales",
         324
        ],
        [
         "Republic of Ireland",
         324
        ],
        [
         "Uganda",
         307
        ],
        [
         "China PR",
         304
        ],
        [
         "Peru",
         297
        ],
        [
         "Morocco",
         296
        ],
        [
         "Turkey",
         294
        ],
        [
         "Tanzania",
         294
        ],
        [
         "Australia",
         294
        ],
        [
         "Romania",
         286
        ],
        [
         "Indonesia",
         285
        ],
        [
         "Malawi",
         284
        ],
        [
         "Greece",
         283
        ],
        [
         "Jamaica",
         276
        ],
        [
         "Costa Rica",
         268
        ],
        [
         "Cyprus",
         266
        ],
        [
         "Ethiopia",
         261
        ],
        [
         "Bulgaria",
         261
        ],
        [
         "Iran",
         255
        ],
        [
         "India",
         253
        ],
        [
         "Malta",
         251
        ],
        [
         "Oman",
         251
        ],
        [
         "Ghana",
         247
        ],
        [
         "Northern Ireland",
         243
        ],
        [
         "Zambia",
         241
        ],
        [
         "Jordan",
         236
        ],
        [
         "Bahrain",
         234
        ],
        [
         "Honduras",
         228
        ],
        [
         "Gabon",
         224
        ],
        [
         "Israel",
         222
        ],
        [
         "Ivory Coast",
         221
        ],
        [
         "Luxembourg",
         219
        ],
        [
         "Paraguay",
         218
        ],
        [
         "Yugoslavia",
         217
        ],
        [
         "Estonia",
         212
        ],
        [
         "Hong Kong",
         210
        ],
        [
         "Russia",
         209
        ],
        [
         "Ecuador",
         206
        ],
        [
         "Nigeria",
         206
        ],
        [
         "Senegal",
         202
        ],
        [
         "Algeria",
         198
        ],
        [
         "Haiti",
         198
        ],
        [
         "Mali",
         198
        ],
        [
         "Czechoslovakia",
         194
        ],
        [
         "Bolivia",
         193
        ],
        [
         "Iceland",
         191
        ],
        [
         "Colombia",
         188
        ],
        [
         "Guatemala",
         185
        ],
        [
         "Panama",
         182
        ],
        [
         "El Salvador",
         180
        ],
        [
         "Venezuela",
         170
        ],
        [
         "Zimbabwe",
         170
        ],
        [
         "Soviet Union",
         164
        ],
        [
         "Congo",
         164
        ],
        [
         "Cameroon",
         164
        ],
        [
         "Libya",
         163
        ],
        [
         "Latvia",
         161
        ],
        [
         "Albania",
         159
        ],
        [
         "Lebanon",
         158
        ],
        [
         "Burkina Faso",
         158
        ],
        [
         "Rwanda",
         157
        ],
        [
         "Sudan",
         157
        ],
        [
         "Angola",
         153
        ],
        [
         "Iraq",
         146
        ],
        [
         "Barbados",
         146
        ],
        [
         "Martinique",
         143
        ],
        [
         "Fiji",
         139
        ],
        [
         "New Zealand",
         139
        ],
        [
         "Togo",
         136
        ],
        [
         "Lithuania",
         134
        ],
        [
         "Mozambique",
         134
        ],
        [
         "Botswana",
         134
        ],
        [
         "Suriname",
         131
        ],
        [
         "Liberia",
         131
        ],
        [
         "Ukraine",
         130
        ],
        [
         "Guinea",
         130
        ],
        [
         "German DR",
         129
        ],
        [
         "Canada",
         128
        ],
        [
         "Croatia",
         125
        ],
        [
         "Vietnam",
         125
        ],
        [
         "Slovakia",
         123
        ],
        [
         "New Caledonia",
         123
        ],
        [
         "Georgia",
         122
        ],
        [
         "Gambia",
         122
        ],
        [
         "Sierra Leone",
         121
        ],
        [
         "Czech Republic",
         119
        ],
        [
         "Eswatini",
         114
        ],
        [
         "Bangladesh",
         108
        ],
        [
         "Saint Kitts and Nevis",
         108
        ],
        [
         "Namibia",
         108
        ],
        [
         "North Macedonia",
         108
        ],
        [
         "Slovenia",
         106
        ],
        [
         "Azerbaijan",
         105
        ],
        [
         "Equatorial Guinea",
         104
        ],
        [
         "Syria",
         104
        ],
        [
         "Uzbekistan",
         104
        ],
        [
         "Benin",
         102
        ],
        [
         "Faroe Islands",
         101
        ],
        [
         "Antigua and Barbuda",
         101
        ],
        [
         "Lesotho",
         99
        ],
        [
         "Guyana",
         98
        ],
        [
         "Grenada",
         98
        ],
        [
         "Malaya",
         95
        ],
        [
         "Nepal",
         95
        ],
        [
         "Madagascar",
         94
        ],
        [
         "Liechtenstein",
         89
        ],
        [
         "Belarus",
         88
        ],
        [
         "Mauritania",
         88
        ],
        [
         "Guadeloupe",
         88
        ],
        [
         "Saint Lucia",
         86
        ],
        [
         "Mauritius",
         86
        ],
        [
         "Armenia",
         84
        ],
        [
         "Philippines",
         83
        ],
        [
         "Bosnia and Herzegovina",
         82
        ],
        [
         "Bermuda",
         82
        ],
        [
         "Niger",
         81
        ],
        [
         "Kazakhstan",
         81
        ],
        [
         "Burma",
         79
        ],
        [
         "Moldova",
         79
        ],
        [
         "Cambodia",
         78
        ],
        [
         "DR Congo",
         78
        ],
        [
         "San Marino",
         77
        ],
        [
         "French Polynesia",
         77
        ],
        [
         "Cuba",
         76
        ],
        [
         "Cape Verde",
         76
        ],
        [
         "Maldives",
         73
        ],
        [
         "Netherlands Antilles",
         73
        ],
        [
         "Vietnam Republic",
         72
        ],
        [
         "Samoa",
         72
        ],
        [
         "Jersey",
         68
        ],
        [
         "Solomon Islands",
         66
        ],
        [
         "Pakistan",
         66
        ],
        [
         "Guinea-Bissau",
         64
        ],
        [
         "Andorra",
         62
        ],
        [
         "Dominica",
         61
        ],
        [
         "Sri Lanka",
         59
        ],
        [
         "Saint Vincent and the Grenadines",
         59
        ],
        [
         "Zaïre",
         59
        ],
        [
         "Papua New Guinea",
         59
        ],
        [
         "Yemen",
         58
        ],
        [
         "Vanuatu",
         58
        ],
        [
         "Curaçao",
         57
        ],
        [
         "French Guiana",
         55
        ],
        [
         "Puerto Rico",
         54
        ],
        [
         "North Korea",
         54
        ],
        [
         "Cayman Islands",
         52
        ],
        [
         "Aruba",
         50
        ],
        [
         "Montenegro",
         49
        ],
        [
         "Macau",
         48
        ],
        [
         "Laos",
         48
        ],
        [
         "Dominican Republic",
         48
        ],
        [
         "Chinese Taipei",
         47
        ],
        [
         "Réunion",
         47
        ],
        [
         "Tajikistan",
         46
        ],
        [
         "Serbia",
         45
        ],
        [
         "Burundi",
         43
        ],
        [
         "Guernsey",
         41
        ],
        [
         "Chad",
         40
        ],
        [
         "Guam",
         40
        ],
        [
         "Seychelles",
         40
        ],
        [
         "Northern Cyprus",
         35
        ],
        [
         "Zanzibar",
         34
        ],
        [
         "Turkmenistan",
         33
        ],
        [
         "Kyrgyzstan",
         32
        ],
        [
         "Central African Republic",
         31
        ],
        [
         "Gibraltar",
         30
        ],
        [
         "Netherlands Guyana",
         29
        ],
        [
         "British Virgin Islands",
         29
        ],
        [
         "British Guyana",
         28
        ],
        [
         "Tanganyika",
         28
        ],
        [
         "Western Samoa",
         27
        ],
        [
         "Nicaragua",
         26
        ],
        [
         "Isle of Man",
         24
        ],
        [
         "Upper Volta",
         22
        ],
        [
         "Djibouti",
         21
        ],
        [
         "São Tomé and Príncipe",
         17
        ],
        [
         "Somalia",
         17
        ],
        [
         "Belize",
         17
        ],
        [
         "Eritrea",
         16
        ],
        [
         "Palestine",
         16
        ],
        [
         "Dahomey",
         16
        ],
        [
         "U.S. Virgin Islands",
         15
        ],
        [
         "Comoros",
         15
        ],
        [
         "Northern Rhodesia",
         15
        ],
        [
         "Bhutan",
         14
        ],
        [
         "Mongolia",
         13
        ],
        [
         "Anguilla",
         12
        ],
        [
         "Tonga",
         12
        ],
        [
         "Bahamas",
         12
        ],
        [
         "Kosovo",
         11
        ],
        [
         "Serbia and Montenegro",
         11
        ],
        [
         "Southern Rhodesia",
         11
        ],
        [
         "Saint Martin",
         11
        ],
        [
         "United Arab Republic",
         11
        ],
        [
         "Sint Maarten",
         10
        ],
        [
         "Cook Islands",
         10
        ],
        [
         "Irish Free State",
         9
        ],
        [
         "Brunei",
         9
        ],
        [
         "South Sudan",
         9
        ],
        [
         "Afghanistan",
         8
        ],
        [
         "Ceylon",
         8
        ],
        [
         "Vietnam DR",
         7
        ],
        [
         "Éire",
         7
        ],
        [
         "Gold Coast",
         6
        ],
        [
         "Rhodesia",
         6
        ],
        [
         "Saarland",
         6
        ],
        [
         "Montserrat",
         5
        ],
        [
         "Myanmar",
         5
        ],
        [
         "Manchuria",
         5
        ],
        [
         "Monaco",
         5
        ],
        [
         "Yemen AR",
         5
        ],
        [
         "Nyasaland",
         4
        ],
        [
         "East Timor",
         4
        ],
        [
         "French Somaliland",
         4
        ],
        [
         "Northern Mariana Islands",
         3
        ],
        [
         "Palau",
         3
        ],
        [
         "New Hebrides",
         3
        ],
        [
         "Bohemia",
         3
        ],
        [
         "Turks and Caicos Islands",
         2
        ],
        [
         "Yemen DPR",
         2
        ],
        [
         "Tahiti",
         2
        ],
        [
         "Mayotte",
         2
        ],
        [
         "Greenland",
         2
        ],
        [
         "Belgian Congo",
         1
        ],
        [
         "Lautoka",
         1
        ],
        [
         "Portuguese Guinea",
         1
        ],
        [
         "Mali Federation",
         1
        ],
        [
         "Micronesia",
         1
        ],
        [
         "Bohemia and Moravia",
         1
        ]
       ],
       "datasetInfos": [],
       "dbfsResultPath": null,
       "isJsonSchema": true,
       "metadata": {},
       "overflow": false,
       "plotOptions": {
        "customPlotOptions": {},
        "displayType": "table",
        "pivotAggregation": null,
        "pivotColumns": null,
        "xColumns": null,
        "yColumns": null
       },
       "removedWidgets": [],
       "schema": [
        {
         "metadata": "{}",
         "name": "country",
         "type": "\"string\""
        },
        {
         "metadata": "{}",
         "name": "count",
         "type": "\"long\""
        }
       ],
       "type": "table"
      }
     },
     "output_type": "display_data"
    }
   ],
   "source": [
    "# 6 - Quantas partidas foram realizadas em cada país?\n",
    "df_qtd_partidas_paises = df.groupBy('country').count()\n",
    "display(df_qtd_partidas_paises.orderBy('count', ascending=False))"
   ]
  },
  {
   "cell_type": "code",
   "execution_count": null,
   "metadata": {
    "application/vnd.databricks.v1+cell": {
     "cellMetadata": {
      "byteLimit": 2048000,
      "rowLimit": 10000
     },
     "inputWidgets": {},
     "nuid": "07523c50-b921-4a74-b065-8389be94dc5f",
     "showTitle": false,
     "title": ""
    }
   },
   "outputs": [
    {
     "data": {
      "text/html": [
       "<style scoped>\n",
       "  .table-result-container {\n",
       "    max-height: 300px;\n",
       "    overflow: auto;\n",
       "  }\n",
       "  table, th, td {\n",
       "    border: 1px solid black;\n",
       "    border-collapse: collapse;\n",
       "  }\n",
       "  th, td {\n",
       "    padding: 5px;\n",
       "  }\n",
       "  th {\n",
       "    text-align: left;\n",
       "  }\n",
       "</style><div class='table-result-container'><table class='table-result'><thead style='background-color: white'><tr><th>country</th><th>count</th></tr></thead><tbody><tr><td>United States</td><td>1144</td></tr></tbody></table></div>"
      ]
     },
     "metadata": {
      "application/vnd.databricks.v1+output": {
       "addedWidgets": {},
       "aggData": [],
       "aggError": "",
       "aggOverflow": false,
       "aggSchema": [],
       "aggSeriesLimitReached": false,
       "aggType": "",
       "arguments": {},
       "columnCustomDisplayInfos": {},
       "data": [
        [
         "United States",
         1144
        ]
       ],
       "datasetInfos": [],
       "dbfsResultPath": null,
       "isJsonSchema": true,
       "metadata": {},
       "overflow": false,
       "plotOptions": {
        "customPlotOptions": {},
        "displayType": "table",
        "pivotAggregation": null,
        "pivotColumns": null,
        "xColumns": null,
        "yColumns": null
       },
       "removedWidgets": [],
       "schema": [
        {
         "metadata": "{}",
         "name": "country",
         "type": "\"string\""
        },
        {
         "metadata": "{}",
         "name": "count",
         "type": "\"long\""
        }
       ],
       "type": "table"
      }
     },
     "output_type": "display_data"
    }
   ],
   "source": [
    "# 7 - Qual país teve mais partidas?\n",
    "\n",
    "display(df_qtd_partidas_paises.orderBy('count', ascending=False).take(1))"
   ]
  },
  {
   "cell_type": "code",
   "execution_count": null,
   "metadata": {
    "application/vnd.databricks.v1+cell": {
     "cellMetadata": {
      "byteLimit": 2048000,
      "rowLimit": 10000
     },
     "inputWidgets": {},
     "nuid": "f4f800f0-3539-4b31-ba0f-cb2278d81ee8",
     "showTitle": false,
     "title": ""
    }
   },
   "outputs": [
    {
     "data": {
      "text/html": [
       "<style scoped>\n",
       "  .table-result-container {\n",
       "    max-height: 300px;\n",
       "    overflow: auto;\n",
       "  }\n",
       "  table, th, td {\n",
       "    border: 1px solid black;\n",
       "    border-collapse: collapse;\n",
       "  }\n",
       "  th, td {\n",
       "    padding: 5px;\n",
       "  }\n",
       "  th {\n",
       "    text-align: left;\n",
       "  }\n",
       "</style><div class='table-result-container'><table class='table-result'><thead style='background-color: white'><tr><th>date</th><th>home_team</th><th>away_team</th><th>home_score</th><th>away_score</th><th>tournament</th><th>city</th><th>country</th><th>resultado</th></tr></thead><tbody><tr><td>2001-04-11</td><td>Australia</td><td>American Samoa</td><td>31</td><td>0</td><td>FIFA World Cup qualification</td><td>Coffs Harbour</td><td>Australia</td><td>31.0</td></tr></tbody></table></div>"
      ]
     },
     "metadata": {
      "application/vnd.databricks.v1+output": {
       "addedWidgets": {},
       "aggData": [],
       "aggError": "",
       "aggOverflow": false,
       "aggSchema": [],
       "aggSeriesLimitReached": false,
       "aggType": "",
       "arguments": {},
       "columnCustomDisplayInfos": {},
       "data": [
        [
         "2001-04-11",
         "Australia",
         "American Samoa",
         "31",
         "0",
         "FIFA World Cup qualification",
         "Coffs Harbour",
         "Australia",
         31
        ]
       ],
       "datasetInfos": [],
       "dbfsResultPath": null,
       "isJsonSchema": true,
       "metadata": {},
       "overflow": false,
       "plotOptions": {
        "customPlotOptions": {},
        "displayType": "table",
        "pivotAggregation": null,
        "pivotColumns": null,
        "xColumns": null,
        "yColumns": null
       },
       "removedWidgets": [],
       "schema": [
        {
         "metadata": "{}",
         "name": "date",
         "type": "\"string\""
        },
        {
         "metadata": "{}",
         "name": "home_team",
         "type": "\"string\""
        },
        {
         "metadata": "{}",
         "name": "away_team",
         "type": "\"string\""
        },
        {
         "metadata": "{}",
         "name": "home_score",
         "type": "\"string\""
        },
        {
         "metadata": "{}",
         "name": "away_score",
         "type": "\"string\""
        },
        {
         "metadata": "{}",
         "name": "tournament",
         "type": "\"string\""
        },
        {
         "metadata": "{}",
         "name": "city",
         "type": "\"string\""
        },
        {
         "metadata": "{}",
         "name": "country",
         "type": "\"string\""
        },
        {
         "metadata": "{}",
         "name": "resultado",
         "type": "\"double\""
        }
       ],
       "type": "table"
      }
     },
     "output_type": "display_data"
    }
   ],
   "source": [
    "# 8 - Qual a partida com maior número de gols?\n",
    "\n",
    "df_partida_resutlado = df_partidas.withColumn('resultado',df_partidas.home_score + df_partidas.away_score).drop('neutral')\n",
    "\n",
    "display(df_partida_resutlado.orderBy('resultado', ascending=False).take(1))\n"
   ]
  },
  {
   "cell_type": "code",
   "execution_count": null,
   "metadata": {
    "application/vnd.databricks.v1+cell": {
     "cellMetadata": {
      "byteLimit": 2048000,
      "rowLimit": 10000
     },
     "inputWidgets": {},
     "nuid": "c2dc74d6-c921-4669-96b7-515c54dc44d3",
     "showTitle": false,
     "title": ""
    }
   },
   "outputs": [
    {
     "data": {
      "text/html": [
       "<style scoped>\n",
       "  .table-result-container {\n",
       "    max-height: 300px;\n",
       "    overflow: auto;\n",
       "  }\n",
       "  table, th, td {\n",
       "    border: 1px solid black;\n",
       "    border-collapse: collapse;\n",
       "  }\n",
       "  th, td {\n",
       "    padding: 5px;\n",
       "  }\n",
       "  th {\n",
       "    text-align: left;\n",
       "  }\n",
       "</style><div class='table-result-container'><table class='table-result'><thead style='background-color: white'><tr><th>date</th><th>home_team</th><th>away_team</th><th>home_score</th><th>away_score</th><th>tournament</th><th>city</th><th>country</th><th>resultado</th></tr></thead><tbody><tr><td>2001-04-11</td><td>Australia</td><td>American Samoa</td><td>31</td><td>0</td><td>FIFA World Cup qualification</td><td>Coffs Harbour</td><td>Australia</td><td>31.0</td></tr></tbody></table></div>"
      ]
     },
     "metadata": {
      "application/vnd.databricks.v1+output": {
       "addedWidgets": {},
       "aggData": [],
       "aggError": "",
       "aggOverflow": false,
       "aggSchema": [],
       "aggSeriesLimitReached": false,
       "aggType": "",
       "arguments": {},
       "columnCustomDisplayInfos": {},
       "data": [
        [
         "2001-04-11",
         "Australia",
         "American Samoa",
         "31",
         "0",
         "FIFA World Cup qualification",
         "Coffs Harbour",
         "Australia",
         31
        ]
       ],
       "datasetInfos": [],
       "dbfsResultPath": null,
       "isJsonSchema": true,
       "metadata": {},
       "overflow": false,
       "plotOptions": {
        "customPlotOptions": {},
        "displayType": "table",
        "pivotAggregation": null,
        "pivotColumns": null,
        "xColumns": null,
        "yColumns": null
       },
       "removedWidgets": [],
       "schema": [
        {
         "metadata": "{}",
         "name": "date",
         "type": "\"string\""
        },
        {
         "metadata": "{}",
         "name": "home_team",
         "type": "\"string\""
        },
        {
         "metadata": "{}",
         "name": "away_team",
         "type": "\"string\""
        },
        {
         "metadata": "{}",
         "name": "home_score",
         "type": "\"string\""
        },
        {
         "metadata": "{}",
         "name": "away_score",
         "type": "\"string\""
        },
        {
         "metadata": "{}",
         "name": "tournament",
         "type": "\"string\""
        },
        {
         "metadata": "{}",
         "name": "city",
         "type": "\"string\""
        },
        {
         "metadata": "{}",
         "name": "country",
         "type": "\"string\""
        },
        {
         "metadata": "{}",
         "name": "resultado",
         "type": "\"double\""
        }
       ],
       "type": "table"
      }
     },
     "output_type": "display_data"
    }
   ],
   "source": [
    "# 9 - Qual a maior goleada?\n",
    "\n",
    "df_partida_goleada = df_partidas.withColumn('resultado',df_partidas.home_score - df_partidas.away_score).drop('neutral')\n",
    "\n",
    "display(df_partida_goleada.orderBy('resultado', ascending=False).take(1))"
   ]
  },
  {
   "cell_type": "code",
   "execution_count": null,
   "metadata": {
    "application/vnd.databricks.v1+cell": {
     "cellMetadata": {
      "byteLimit": 2048000,
      "rowLimit": 10000
     },
     "inputWidgets": {},
     "nuid": "afdb3769-c592-4efe-85f2-f84fae822df2",
     "showTitle": false,
     "title": ""
    }
   },
   "outputs": [
    {
     "name": "stdout",
     "output_type": "stream",
     "text": [
      "+-------+-----+\n",
      "|country|count|\n",
      "+-------+-----+\n",
      "| Brazil|  529|\n",
      "+-------+-----+\n",
      "\n"
     ]
    }
   ],
   "source": [
    "# 10 - Quantos jogos ocorreram no Brasil?\n",
    "df_qtd_partidas_paises.where(df_qtd_partidas_paises.country == 'Brazil').show()"
   ]
  },
  {
   "cell_type": "code",
   "execution_count": 4,
   "metadata": {},
   "outputs": [],
   "source": [
    "spark.stop()"
   ]
  }
 ],
 "metadata": {
  "application/vnd.databricks.v1+notebook": {
   "dashboards": [],
   "language": "python",
   "notebookMetadata": {
    "pythonIndentUnit": 4
   },
   "notebookName": "Atividade_DData_Proc_Storage_RM353182",
   "widgets": {}
  },
  "kernelspec": {
   "display_name": "Python 3 (ipykernel)",
   "language": "python",
   "name": "python3"
  },
  "language_info": {
   "codemirror_mode": {
    "name": "ipython",
    "version": 3
   },
   "file_extension": ".py",
   "mimetype": "text/x-python",
   "name": "python",
   "nbconvert_exporter": "python",
   "pygments_lexer": "ipython3",
   "version": "3.12.10"
  }
 },
 "nbformat": 4,
 "nbformat_minor": 4
}
